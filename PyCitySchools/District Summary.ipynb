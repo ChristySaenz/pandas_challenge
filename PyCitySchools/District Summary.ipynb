{
 "cells": [
  {
   "cell_type": "code",
   "execution_count": null,
   "id": "cde75bd7",
   "metadata": {},
   "outputs": [],
   "source": [
    "### District Summary\n",
    "# Create a high-level snapshot, in a DataFrame, of the district's key metrics, including the following:\n",
    "# * Total schools\n",
    "# * Total students\n",
    "# * Total budget\n",
    "# * Average math score\n",
    "# * Average reading score\n",
    "# * % passing math (the percentage of students who passed math)\n",
    "# * % passing reading (the percentage of students who passed reading)\n",
    "# * % overall passing (the percentage of students who passed math AND reading"
   ]
  }
 ],
 "metadata": {
  "kernelspec": {
   "display_name": "Python 3 (ipykernel)",
   "language": "python",
   "name": "python3"
  },
  "language_info": {
   "codemirror_mode": {
    "name": "ipython",
    "version": 3
   },
   "file_extension": ".py",
   "mimetype": "text/x-python",
   "name": "python",
   "nbconvert_exporter": "python",
   "pygments_lexer": "ipython3",
   "version": "3.9.12"
  }
 },
 "nbformat": 4,
 "nbformat_minor": 5
}
