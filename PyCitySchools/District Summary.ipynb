{
 "cells": [
  {
   "cell_type": "code",
   "execution_count": 1,
   "id": "8b6cbe79",
   "metadata": {},
   "outputs": [],
   "source": [
    "import pandas as pd"
   ]
  },
  {
   "cell_type": "code",
   "execution_count": 2,
   "id": "79dba9dd",
   "metadata": {},
   "outputs": [
    {
     "data": {
      "text/html": [
       "<div>\n",
       "<style scoped>\n",
       "    .dataframe tbody tr th:only-of-type {\n",
       "        vertical-align: middle;\n",
       "    }\n",
       "\n",
       "    .dataframe tbody tr th {\n",
       "        vertical-align: top;\n",
       "    }\n",
       "\n",
       "    .dataframe thead th {\n",
       "        text-align: right;\n",
       "    }\n",
       "</style>\n",
       "<table border=\"1\" class=\"dataframe\">\n",
       "  <thead>\n",
       "    <tr style=\"text-align: right;\">\n",
       "      <th></th>\n",
       "      <th>Student ID</th>\n",
       "      <th>student_name</th>\n",
       "      <th>gender</th>\n",
       "      <th>grade</th>\n",
       "      <th>school_name</th>\n",
       "      <th>reading_score</th>\n",
       "      <th>math_score</th>\n",
       "      <th>School ID</th>\n",
       "      <th>type</th>\n",
       "      <th>size</th>\n",
       "      <th>budget</th>\n",
       "    </tr>\n",
       "  </thead>\n",
       "  <tbody>\n",
       "    <tr>\n",
       "      <th>0</th>\n",
       "      <td>0</td>\n",
       "      <td>Paul Bradley</td>\n",
       "      <td>M</td>\n",
       "      <td>9th</td>\n",
       "      <td>Huang High School</td>\n",
       "      <td>66</td>\n",
       "      <td>79</td>\n",
       "      <td>0</td>\n",
       "      <td>District</td>\n",
       "      <td>2917</td>\n",
       "      <td>1910635</td>\n",
       "    </tr>\n",
       "    <tr>\n",
       "      <th>1</th>\n",
       "      <td>1</td>\n",
       "      <td>Victor Smith</td>\n",
       "      <td>M</td>\n",
       "      <td>12th</td>\n",
       "      <td>Huang High School</td>\n",
       "      <td>94</td>\n",
       "      <td>61</td>\n",
       "      <td>0</td>\n",
       "      <td>District</td>\n",
       "      <td>2917</td>\n",
       "      <td>1910635</td>\n",
       "    </tr>\n",
       "    <tr>\n",
       "      <th>2</th>\n",
       "      <td>2</td>\n",
       "      <td>Kevin Rodriguez</td>\n",
       "      <td>M</td>\n",
       "      <td>12th</td>\n",
       "      <td>Huang High School</td>\n",
       "      <td>90</td>\n",
       "      <td>60</td>\n",
       "      <td>0</td>\n",
       "      <td>District</td>\n",
       "      <td>2917</td>\n",
       "      <td>1910635</td>\n",
       "    </tr>\n",
       "    <tr>\n",
       "      <th>3</th>\n",
       "      <td>3</td>\n",
       "      <td>Dr. Richard Scott</td>\n",
       "      <td>M</td>\n",
       "      <td>12th</td>\n",
       "      <td>Huang High School</td>\n",
       "      <td>67</td>\n",
       "      <td>58</td>\n",
       "      <td>0</td>\n",
       "      <td>District</td>\n",
       "      <td>2917</td>\n",
       "      <td>1910635</td>\n",
       "    </tr>\n",
       "    <tr>\n",
       "      <th>4</th>\n",
       "      <td>4</td>\n",
       "      <td>Bonnie Ray</td>\n",
       "      <td>F</td>\n",
       "      <td>9th</td>\n",
       "      <td>Huang High School</td>\n",
       "      <td>97</td>\n",
       "      <td>84</td>\n",
       "      <td>0</td>\n",
       "      <td>District</td>\n",
       "      <td>2917</td>\n",
       "      <td>1910635</td>\n",
       "    </tr>\n",
       "  </tbody>\n",
       "</table>\n",
       "</div>"
      ],
      "text/plain": [
       "   Student ID       student_name gender grade        school_name  \\\n",
       "0           0       Paul Bradley      M   9th  Huang High School   \n",
       "1           1       Victor Smith      M  12th  Huang High School   \n",
       "2           2    Kevin Rodriguez      M  12th  Huang High School   \n",
       "3           3  Dr. Richard Scott      M  12th  Huang High School   \n",
       "4           4         Bonnie Ray      F   9th  Huang High School   \n",
       "\n",
       "   reading_score  math_score  School ID      type  size   budget  \n",
       "0             66          79          0  District  2917  1910635  \n",
       "1             94          61          0  District  2917  1910635  \n",
       "2             90          60          0  District  2917  1910635  \n",
       "3             67          58          0  District  2917  1910635  \n",
       "4             97          84          0  District  2917  1910635  "
      ]
     },
     "execution_count": 2,
     "metadata": {},
     "output_type": "execute_result"
    }
   ],
   "source": [
    "schools_file = \"Resources/schools_complete.csv\"\n",
    "schools_df = pd.read_csv(schools_file)\n",
    "\n",
    "students_file =\"Resources/students_complete.csv\"\n",
    "students_df = pd.read_csv(students_file)\n",
    "\n",
    "merge_df = pd.merge(students_df, schools_df, how=\"left\", on=[\"school_name\",\"school_name\"])\n",
    "merge_df.head()"
   ]
  },
  {
   "cell_type": "code",
   "execution_count": 3,
   "id": "a6da6919",
   "metadata": {},
   "outputs": [
    {
     "data": {
      "text/plain": [
       "Index(['Student ID', 'student_name', 'gender', 'grade', 'school_name',\n",
       "       'reading_score', 'math_score', 'School ID', 'type', 'size', 'budget'],\n",
       "      dtype='object')"
      ]
     },
     "execution_count": 3,
     "metadata": {},
     "output_type": "execute_result"
    }
   ],
   "source": [
    "merge_df.columns"
   ]
  },
  {
   "cell_type": "code",
   "execution_count": 4,
   "id": "96b642cb",
   "metadata": {},
   "outputs": [],
   "source": [
    "#Calculate the total number of schools\n",
    "num_schools = merge_df[\"school_name\"].nunique()\n",
    "#Calculate the total number of students with \",\"\n",
    "num_students = merge_df[\"Student ID\"].nunique()\n",
    "#Calculate the total budget in dollars\n",
    "dist_budget = schools_df[\"budget\"].sum()\n",
    "#Calculate the average math score \n",
    "avg_score_math = merge_df[\"math_score\"].mean()\n",
    "#Calculate the average reading score\n",
    "avg_score_read = merge_df[\"reading_score\"].mean()\n",
    "#Calculate the percentage of students with a passing math score (70 or greater)\n",
    "tot_pass_math = merge_df[\"math_score\"][merge_df.loc[:,\"math_score\"] >= 70].count()\n",
    "pass_math = (tot_pass_math)/(merge_df[\"math_score\"].count())*100\n",
    "#Calculate the percentage of students with a passing reading score (70 or greater)\n",
    "tot_pass_read = merge_df[\"reading_score\"][merge_df.loc[:,\"reading_score\"] >= 70].count()\n",
    "pass_read = (tot_pass_read)/(merge_df[\"reading_score\"].count())*100\n",
    "#Calculate the percentage of students who passed math **and** reading (% Overall Passing)\n",
    "# pass_both = merge_df[\"math_score\",\"reading_score\"][merge_df.loc[:,\"math_score\",\"reading_score\" >= 70].count()\n",
    "# pass_both"
   ]
  },
  {
   "cell_type": "code",
   "execution_count": 5,
   "id": "43feb301",
   "metadata": {},
   "outputs": [],
   "source": [
    "#  % overall passing (the percentage of students who passed math AND reading"
   ]
  },
  {
   "cell_type": "code",
   "execution_count": 6,
   "id": "bf7abd98",
   "metadata": {},
   "outputs": [
    {
     "data": {
      "text/html": [
       "<div>\n",
       "<style scoped>\n",
       "    .dataframe tbody tr th:only-of-type {\n",
       "        vertical-align: middle;\n",
       "    }\n",
       "\n",
       "    .dataframe tbody tr th {\n",
       "        vertical-align: top;\n",
       "    }\n",
       "\n",
       "    .dataframe thead th {\n",
       "        text-align: right;\n",
       "    }\n",
       "</style>\n",
       "<table border=\"1\" class=\"dataframe\">\n",
       "  <thead>\n",
       "    <tr style=\"text-align: right;\">\n",
       "      <th></th>\n",
       "      <th>Total Schools</th>\n",
       "      <th>Total Students</th>\n",
       "      <th>Total Budget</th>\n",
       "      <th>Average Math Score</th>\n",
       "      <th>Average Reading Score</th>\n",
       "      <th>% Passing Math</th>\n",
       "      <th>% Passing Reading</th>\n",
       "    </tr>\n",
       "  </thead>\n",
       "  <tbody>\n",
       "    <tr>\n",
       "      <th>0</th>\n",
       "      <td>15</td>\n",
       "      <td>39170</td>\n",
       "      <td>24649428</td>\n",
       "      <td>78.985371</td>\n",
       "      <td>81.87784</td>\n",
       "      <td>74.980853</td>\n",
       "      <td>85.805463</td>\n",
       "    </tr>\n",
       "  </tbody>\n",
       "</table>\n",
       "</div>"
      ],
      "text/plain": [
       "   Total Schools  Total Students  Total Budget  Average Math Score  \\\n",
       "0             15           39170      24649428           78.985371   \n",
       "\n",
       "   Average Reading Score  % Passing Math  % Passing Reading  \n",
       "0               81.87784       74.980853          85.805463  "
      ]
     },
     "execution_count": 6,
     "metadata": {},
     "output_type": "execute_result"
    }
   ],
   "source": [
    "#Create chart with info\n",
    "dist_dict = {\"Total Schools\": [num_schools],\n",
    "             \"Total Students\":[num_students],\"Total Budget\":[dist_budget],\n",
    "            \"Average Math Score\":[avg_score_math],\n",
    "             \"Average Reading Score\":[avg_score_read],\"% Passing Math\":[pass_math],\n",
    "             \"% Passing Reading\":[pass_read]}\n",
    "dist_df=pd.DataFrame(data=dist_dict)\n",
    "dist_df\n",
    "#Total Students should also display with \",\" \n",
    "#still need % passing both math and reading"
   ]
  },
  {
   "cell_type": "code",
   "execution_count": 25,
   "id": "8600aceb",
   "metadata": {},
   "outputs": [],
   "source": [
    "#Create an overview table that summarizes key metrics about each school, including:\n",
    "# School Name\n",
    "schools_sort_df = schools_df.sort_values(\"school_name\", ascending = True)\n",
    "sch_group = merge_df.groupby([\"school_name\"])\n",
    "\n",
    "# Per Student Budget\n",
    "stu_budget = sch_df[\"Total School Budget\"]/sch_df[\"Total Students\"]\n",
    "# Average Math Score\n",
    "sch_math = sch_group[\"math_score\"].mean()\n",
    "# Average Reading Score\n",
    "sch_read = sch_group[\"reading_score\"].mean()\n",
    "# % Passing Math\n",
    "#https://www.knytes.com/Cleaning-School-Data-with-Pandas/\n",
    "sch_stud_total = sch_group[\"Student ID\"].count()\n",
    "students_sort_df = students_df.sort_values(\"school_name\", ascending = True)\n",
    "stu_pass_math = merge_df[merge_df[\"math_score\"] >= 70].groupby([\"school_name\"])\n",
    "sch_pass_math = [(i/j)*100 for i,j in zip(stu_pass_math.math_score.count(),sch_stud_total)]\n",
    "# % Passing Reading\n",
    "stu_pass_read = merge_df[merge_df[\"reading_score\"] >= 70].groupby([\"school_name\"])\n",
    "sch_pass_read = [(i/j)*100 for i,j in zip(stu_pass_read.reading_score.count(),sch_stud_total)]\n",
    "# % Overall Passing (The percentage of students that passed math **and** reading.)\n",
    "#schools_sort_df.columns \n",
    "# Create a dataframe to hold the above results\n"
   ]
  },
  {
   "cell_type": "code",
   "execution_count": 26,
   "id": "e0f20a55",
   "metadata": {},
   "outputs": [
    {
     "ename": "NameError",
     "evalue": "name 'stu_budget' is not defined",
     "output_type": "error",
     "traceback": [
      "\u001b[1;31m---------------------------------------------------------------------------\u001b[0m",
      "\u001b[1;31mNameError\u001b[0m                                 Traceback (most recent call last)",
      "Input \u001b[1;32mIn [26]\u001b[0m, in \u001b[0;36m<cell line: 1>\u001b[1;34m()\u001b[0m\n\u001b[0;32m      1\u001b[0m sch_dict \u001b[38;5;241m=\u001b[39m {\u001b[38;5;124m\"\u001b[39m\u001b[38;5;124mSchool Name\u001b[39m\u001b[38;5;124m\"\u001b[39m:schools_sort_df[\u001b[38;5;124m\"\u001b[39m\u001b[38;5;124mschool_name\u001b[39m\u001b[38;5;124m\"\u001b[39m],\u001b[38;5;124m\"\u001b[39m\u001b[38;5;124mSchool Type\u001b[39m\u001b[38;5;124m\"\u001b[39m:schools_sort_df[\u001b[38;5;124m\"\u001b[39m\u001b[38;5;124mtype\u001b[39m\u001b[38;5;124m\"\u001b[39m], \n\u001b[0;32m      2\u001b[0m             \u001b[38;5;124m\"\u001b[39m\u001b[38;5;124mTotal Students\u001b[39m\u001b[38;5;124m\"\u001b[39m:schools_sort_df[\u001b[38;5;124m\"\u001b[39m\u001b[38;5;124msize\u001b[39m\u001b[38;5;124m\"\u001b[39m],\n\u001b[1;32m----> 3\u001b[0m             \u001b[38;5;124m\"\u001b[39m\u001b[38;5;124mTotal School Budget\u001b[39m\u001b[38;5;124m\"\u001b[39m:schools_sort_df[\u001b[38;5;124m\"\u001b[39m\u001b[38;5;124mbudget\u001b[39m\u001b[38;5;124m\"\u001b[39m], \u001b[38;5;124m\"\u001b[39m\u001b[38;5;124mPer Student Budget\u001b[39m\u001b[38;5;124m\"\u001b[39m:\u001b[43mstu_budget\u001b[49m}\n\u001b[0;32m      4\u001b[0m sch_df \u001b[38;5;241m=\u001b[39m pd\u001b[38;5;241m.\u001b[39mDataFrame(data\u001b[38;5;241m=\u001b[39msch_dict)\n\u001b[0;32m      5\u001b[0m stu_budget \u001b[38;5;241m=\u001b[39m sch_df[\u001b[38;5;124m\"\u001b[39m\u001b[38;5;124mTotal School Budget\u001b[39m\u001b[38;5;124m\"\u001b[39m]\u001b[38;5;241m/\u001b[39msch_df[\u001b[38;5;124m\"\u001b[39m\u001b[38;5;124mTotal Students\u001b[39m\u001b[38;5;124m\"\u001b[39m]\n",
      "\u001b[1;31mNameError\u001b[0m: name 'stu_budget' is not defined"
     ]
    }
   ],
   "source": [
    "sch_dict = {\"School Name\":schools_sort_df[\"school_name\"],\"School Type\":schools_sort_df[\"type\"], \n",
    "            \"Total Students\":schools_sort_df[\"size\"],\n",
    "            \"Total School Budget\":schools_sort_df[\"budget\"], \"Per Student Budget\":stu_budget}\n",
    "sch_df = pd.DataFrame(data=sch_dict)\n",
    "stu_budget = sch_df[\"Total School Budget\"]/sch_df[\"Total Students\"]"
   ]
  },
  {
   "cell_type": "code",
   "execution_count": 17,
   "id": "8a54f2a0",
   "metadata": {},
   "outputs": [
    {
     "ename": "NameError",
     "evalue": "name 'sch_stud_total' is not defined",
     "output_type": "error",
     "traceback": [
      "\u001b[1;31m---------------------------------------------------------------------------\u001b[0m",
      "\u001b[1;31mNameError\u001b[0m                                 Traceback (most recent call last)",
      "Input \u001b[1;32mIn [17]\u001b[0m, in \u001b[0;36m<cell line: 1>\u001b[1;34m()\u001b[0m\n\u001b[1;32m----> 1\u001b[0m sch_dict_2 \u001b[38;5;241m=\u001b[39m {\u001b[38;5;124m\"\u001b[39m\u001b[38;5;124mTotal Students\u001b[39m\u001b[38;5;124m\"\u001b[39m:\u001b[43msch_stud_total\u001b[49m,\u001b[38;5;124m\"\u001b[39m\u001b[38;5;124mAverage Math Score\u001b[39m\u001b[38;5;124m\"\u001b[39m:sch_math, \u001b[38;5;124m\"\u001b[39m\u001b[38;5;124mAverage Reading Score\u001b[39m\u001b[38;5;124m\"\u001b[39m:sch_read, \n\u001b[0;32m      2\u001b[0m               \u001b[38;5;124m\"\u001b[39m\u001b[38;5;124m%\u001b[39m\u001b[38;5;124m Passing Math\u001b[39m\u001b[38;5;124m\"\u001b[39m:sch_pass_math, \u001b[38;5;124m\"\u001b[39m\u001b[38;5;124m%\u001b[39m\u001b[38;5;124m Passing Reading\u001b[39m\u001b[38;5;124m\"\u001b[39m:sch_pass_read}\n\u001b[0;32m      3\u001b[0m sch_df_2 \u001b[38;5;241m=\u001b[39mpd\u001b[38;5;241m.\u001b[39mDataFrame(data\u001b[38;5;241m=\u001b[39msch_dict_2)\n\u001b[0;32m      4\u001b[0m \u001b[38;5;66;03m#still need % passing both math and reading\u001b[39;00m\n",
      "\u001b[1;31mNameError\u001b[0m: name 'sch_stud_total' is not defined"
     ]
    }
   ],
   "source": [
    "sch_dict_2 = {\"Total Students\":sch_stud_total,\"Average Math Score\":sch_math, \"Average Reading Score\":sch_read, \n",
    "              \"% Passing Math\":sch_pass_math, \"% Passing Reading\":sch_pass_read}\n",
    "sch_df_2 =pd.DataFrame(data=sch_dict_2)\n",
    "#still need % passing both math and reading\n",
    "sch_df_2"
   ]
  },
  {
   "cell_type": "code",
   "execution_count": 18,
   "id": "b00aa526",
   "metadata": {},
   "outputs": [
    {
     "ename": "NameError",
     "evalue": "name 'sch_df_2' is not defined",
     "output_type": "error",
     "traceback": [
      "\u001b[1;31m---------------------------------------------------------------------------\u001b[0m",
      "\u001b[1;31mNameError\u001b[0m                                 Traceback (most recent call last)",
      "Input \u001b[1;32mIn [18]\u001b[0m, in \u001b[0;36m<cell line: 1>\u001b[1;34m()\u001b[0m\n\u001b[1;32m----> 1\u001b[0m sch_sum_df \u001b[38;5;241m=\u001b[39m pd\u001b[38;5;241m.\u001b[39mmerge(sch_df,\u001b[43msch_df_2\u001b[49m, how\u001b[38;5;241m=\u001b[39m\u001b[38;5;124m\"\u001b[39m\u001b[38;5;124mleft\u001b[39m\u001b[38;5;124m\"\u001b[39m, on\u001b[38;5;241m=\u001b[39m[\u001b[38;5;124m\"\u001b[39m\u001b[38;5;124mTotal Students\u001b[39m\u001b[38;5;124m\"\u001b[39m,\u001b[38;5;124m\"\u001b[39m\u001b[38;5;124mTotal Students\u001b[39m\u001b[38;5;124m\"\u001b[39m])\n\u001b[0;32m      2\u001b[0m sch_sum_df\n",
      "\u001b[1;31mNameError\u001b[0m: name 'sch_df_2' is not defined"
     ]
    }
   ],
   "source": [
    "sch_sum_df = pd.merge(sch_df,sch_df_2, how=\"left\", on=[\"Total Students\",\"Total Students\"])\n",
    "sch_sum_df"
   ]
  },
  {
   "cell_type": "code",
   "execution_count": 11,
   "id": "1311758b",
   "metadata": {},
   "outputs": [
    {
     "ename": "NameError",
     "evalue": "name 'sch_sum_df' is not defined",
     "output_type": "error",
     "traceback": [
      "\u001b[1;31m---------------------------------------------------------------------------\u001b[0m",
      "\u001b[1;31mNameError\u001b[0m                                 Traceback (most recent call last)",
      "Input \u001b[1;32mIn [11]\u001b[0m, in \u001b[0;36m<cell line: 2>\u001b[1;34m()\u001b[0m\n\u001b[0;32m      1\u001b[0m \u001b[38;5;66;03m#Sort and display the top five performing schools by % overall passing.\u001b[39;00m\n\u001b[1;32m----> 2\u001b[0m top_five \u001b[38;5;241m=\u001b[39m \u001b[43msch_sum_df\u001b[49m\u001b[38;5;241m.\u001b[39msort_values(\u001b[38;5;124m\"\u001b[39m\u001b[38;5;124m%\u001b[39m\u001b[38;5;124m Overall Passing\u001b[39m\u001b[38;5;124m\"\u001b[39m, ascending\u001b[38;5;241m=\u001b[39m\u001b[38;5;28;01mTrue\u001b[39;00m)\n\u001b[0;32m      3\u001b[0m top_five\u001b[38;5;241m.\u001b[39mhead()\n",
      "\u001b[1;31mNameError\u001b[0m: name 'sch_sum_df' is not defined"
     ]
    }
   ],
   "source": [
    "#Sort and display the top five performing schools by % overall passing.\n",
    "# top_five = sch_sum_df.sort_values(\"% Overall Passing\", ascending=True)\n",
    "# top_five.head()"
   ]
  },
  {
   "cell_type": "code",
   "execution_count": 12,
   "id": "ce09a53f",
   "metadata": {},
   "outputs": [
    {
     "ename": "NameError",
     "evalue": "name 'sch_sum_df' is not defined",
     "output_type": "error",
     "traceback": [
      "\u001b[1;31m---------------------------------------------------------------------------\u001b[0m",
      "\u001b[1;31mNameError\u001b[0m                                 Traceback (most recent call last)",
      "Input \u001b[1;32mIn [12]\u001b[0m, in \u001b[0;36m<cell line: 2>\u001b[1;34m()\u001b[0m\n\u001b[0;32m      1\u001b[0m \u001b[38;5;66;03m#Sort and display the five worst-performing schools by % overall passing.\u001b[39;00m\n\u001b[1;32m----> 2\u001b[0m bottom_five \u001b[38;5;241m=\u001b[39m \u001b[43msch_sum_df\u001b[49m\u001b[38;5;241m.\u001b[39msort_values(\u001b[38;5;124m\"\u001b[39m\u001b[38;5;124m%\u001b[39m\u001b[38;5;124m Overall Passing\u001b[39m\u001b[38;5;124m\"\u001b[39m, ascending\u001b[38;5;241m=\u001b[39m\u001b[38;5;28;01mFalse\u001b[39;00m)\n\u001b[0;32m      3\u001b[0m bottom_five\u001b[38;5;241m.\u001b[39mhead()\n",
      "\u001b[1;31mNameError\u001b[0m: name 'sch_sum_df' is not defined"
     ]
    }
   ],
   "source": [
    "#Sort and display the five worst-performing schools by % overall passing.\n",
    "# bottom_five = sch_sum_df.sort_values(\"% Overall Passing\", ascending=False)\n",
    "# bottom_five.head()"
   ]
  },
  {
   "cell_type": "code",
   "execution_count": 13,
   "id": "a94bef79",
   "metadata": {},
   "outputs": [],
   "source": [
    "#Create a table that lists the average MathScore for students of each grade level (9th, 10th, 11th, 12th) \n",
    "#at each school.\n",
    "\n",
    "#Create a pandas series for each grade. Hint: use a conditional statement.\n",
    "  \n",
    "#Group each series by school\n",
    "  \n",
    "#Combine the series into a dataframe\n",
    "  \n",
    "#Optional: give the displayed data cleaner formatting"
   ]
  },
  {
   "cell_type": "code",
   "execution_count": null,
   "id": "42a7912e",
   "metadata": {},
   "outputs": [],
   "source": [
    "#Create a table that lists the average Reading Score for students of each grade level \n",
    "#(9th, 10th, 11th, 12th) at each school.\n",
    "\n",
    "#Create a pandas series for each grade. Hint: use a conditional statement.\n",
    "  \n",
    "#Group each series by school\n",
    "  \n",
    "#Combine the series into a dataframe\n",
    "  \n",
    "#Optional: give the displayed data cleaner formatting"
   ]
  },
  {
   "cell_type": "code",
   "execution_count": null,
   "id": "c5e6b777",
   "metadata": {},
   "outputs": [],
   "source": [
    "#Create a table that breaks down school performances based on average Spending Ranges (Per Student). \n",
    "#Use 4 reasonable bins to group school spending. Include in the table each of the following:\n",
    "#Average Math Score\n",
    "#Average Reading Score\n",
    "#% Passing Math\n",
    "#% Passing Reading\n",
    "#Overall Passing Rate (Average of the above two)"
   ]
  },
  {
   "cell_type": "code",
   "execution_count": null,
   "id": "7beaaeda",
   "metadata": {},
   "outputs": [],
   "source": [
    "#Create a table that breaks down school performances based on school size. \n",
    "#Use 4 reasonable bins to group school size. Include in the table each of the following:\n",
    "#Average Math Score\n",
    "#Average Reading Score\n",
    "#% Passing Math\n",
    "#% Passing Reading\n",
    "#Overall Passing Rate (Average of the above two)"
   ]
  },
  {
   "cell_type": "code",
   "execution_count": null,
   "id": "048206b2",
   "metadata": {},
   "outputs": [],
   "source": [
    "#Create a table that breaks down school performances based on school type. \n",
    "#Include in the table each of the following:\n",
    "#Average Math Score\n",
    "#Average Reading Score\n",
    "#% Passing Math\n",
    "#% Passing Reading\n",
    "#Overall Passing Rate (Average of the above two)"
   ]
  }
 ],
 "metadata": {
  "kernelspec": {
   "display_name": "Python 3 (ipykernel)",
   "language": "python",
   "name": "python3"
  },
  "language_info": {
   "codemirror_mode": {
    "name": "ipython",
    "version": 3
   },
   "file_extension": ".py",
   "mimetype": "text/x-python",
   "name": "python",
   "nbconvert_exporter": "python",
   "pygments_lexer": "ipython3",
   "version": "3.9.12"
  }
 },
 "nbformat": 4,
 "nbformat_minor": 5
}
